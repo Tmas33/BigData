{
 "cells": [
  {
   "cell_type": "code",
   "execution_count": 1,
   "id": "3ecbb942",
   "metadata": {},
   "outputs": [],
   "source": [
    "import pandas as pd"
   ]
  },
  {
   "cell_type": "code",
   "execution_count": 2,
   "id": "eab5dcff",
   "metadata": {},
   "outputs": [],
   "source": [
    "df = pd.read_csv('stockData.csv')"
   ]
  },
  {
   "cell_type": "code",
   "execution_count": 3,
   "id": "22691522",
   "metadata": {},
   "outputs": [
    {
     "data": {
      "text/html": [
       "<div>\n",
       "<style scoped>\n",
       "    .dataframe tbody tr th:only-of-type {\n",
       "        vertical-align: middle;\n",
       "    }\n",
       "\n",
       "    .dataframe tbody tr th {\n",
       "        vertical-align: top;\n",
       "    }\n",
       "\n",
       "    .dataframe thead th {\n",
       "        text-align: right;\n",
       "    }\n",
       "</style>\n",
       "<table border=\"1\" class=\"dataframe\">\n",
       "  <thead>\n",
       "    <tr style=\"text-align: right;\">\n",
       "      <th></th>\n",
       "      <th>Unnamed: 0</th>\n",
       "      <th>Meta Data.1. Information</th>\n",
       "      <th>Meta Data.2. Symbol</th>\n",
       "      <th>Meta Data.3. Last Refreshed</th>\n",
       "      <th>Meta Data.4. Interval</th>\n",
       "      <th>Meta Data.5. Output Size</th>\n",
       "      <th>Meta Data.6. Time Zone</th>\n",
       "      <th>Time Series (5min).2024-02-28 19:35:00.1. open</th>\n",
       "      <th>Time Series (5min).2024-02-28 19:35:00.2. high</th>\n",
       "      <th>Time Series (5min).2024-02-28 19:35:00.3. low</th>\n",
       "      <th>...</th>\n",
       "      <th>Time Series (5min).2024-02-28 16:40:00.1. open</th>\n",
       "      <th>Time Series (5min).2024-02-28 16:40:00.2. high</th>\n",
       "      <th>Time Series (5min).2024-02-28 16:40:00.3. low</th>\n",
       "      <th>Time Series (5min).2024-02-28 16:40:00.4. close</th>\n",
       "      <th>Time Series (5min).2024-02-28 16:40:00.5. volume</th>\n",
       "      <th>Time Series (5min).2024-02-28 16:20:00.1. open</th>\n",
       "      <th>Time Series (5min).2024-02-28 16:20:00.2. high</th>\n",
       "      <th>Time Series (5min).2024-02-28 16:20:00.3. low</th>\n",
       "      <th>Time Series (5min).2024-02-28 16:20:00.4. close</th>\n",
       "      <th>Time Series (5min).2024-02-28 16:20:00.5. volume</th>\n",
       "    </tr>\n",
       "  </thead>\n",
       "  <tbody>\n",
       "    <tr>\n",
       "      <th>0</th>\n",
       "      <td>0</td>\n",
       "      <td>Intraday (5min) open, high, low, close prices ...</td>\n",
       "      <td>IBM</td>\n",
       "      <td>2024-02-28 19:35:00</td>\n",
       "      <td>5min</td>\n",
       "      <td>Compact</td>\n",
       "      <td>US/Eastern</td>\n",
       "      <td>185.27</td>\n",
       "      <td>185.27</td>\n",
       "      <td>185.27</td>\n",
       "      <td>...</td>\n",
       "      <td>NaN</td>\n",
       "      <td>NaN</td>\n",
       "      <td>NaN</td>\n",
       "      <td>NaN</td>\n",
       "      <td>NaN</td>\n",
       "      <td>NaN</td>\n",
       "      <td>NaN</td>\n",
       "      <td>NaN</td>\n",
       "      <td>NaN</td>\n",
       "      <td>NaN</td>\n",
       "    </tr>\n",
       "    <tr>\n",
       "      <th>1</th>\n",
       "      <td>1</td>\n",
       "      <td>Intraday (5min) open, high, low, close prices ...</td>\n",
       "      <td>AAPL</td>\n",
       "      <td>2024-02-28 19:40:00</td>\n",
       "      <td>5min</td>\n",
       "      <td>Compact</td>\n",
       "      <td>US/Eastern</td>\n",
       "      <td>181.16</td>\n",
       "      <td>181.33</td>\n",
       "      <td>181.16</td>\n",
       "      <td>...</td>\n",
       "      <td>181.15</td>\n",
       "      <td>181.42</td>\n",
       "      <td>181.1</td>\n",
       "      <td>181.115</td>\n",
       "      <td>48766.0</td>\n",
       "      <td>181.335</td>\n",
       "      <td>181.42</td>\n",
       "      <td>181.15</td>\n",
       "      <td>181.285</td>\n",
       "      <td>23436.0</td>\n",
       "    </tr>\n",
       "  </tbody>\n",
       "</table>\n",
       "<p>2 rows × 597 columns</p>\n",
       "</div>"
      ],
      "text/plain": [
       "   Unnamed: 0                           Meta Data.1. Information  \\\n",
       "0           0  Intraday (5min) open, high, low, close prices ...   \n",
       "1           1  Intraday (5min) open, high, low, close prices ...   \n",
       "\n",
       "  Meta Data.2. Symbol Meta Data.3. Last Refreshed Meta Data.4. Interval  \\\n",
       "0                 IBM         2024-02-28 19:35:00                  5min   \n",
       "1                AAPL         2024-02-28 19:40:00                  5min   \n",
       "\n",
       "  Meta Data.5. Output Size Meta Data.6. Time Zone  \\\n",
       "0                  Compact             US/Eastern   \n",
       "1                  Compact             US/Eastern   \n",
       "\n",
       "   Time Series (5min).2024-02-28 19:35:00.1. open  \\\n",
       "0                                          185.27   \n",
       "1                                          181.16   \n",
       "\n",
       "   Time Series (5min).2024-02-28 19:35:00.2. high  \\\n",
       "0                                          185.27   \n",
       "1                                          181.33   \n",
       "\n",
       "   Time Series (5min).2024-02-28 19:35:00.3. low  ...  \\\n",
       "0                                         185.27  ...   \n",
       "1                                         181.16  ...   \n",
       "\n",
       "   Time Series (5min).2024-02-28 16:40:00.1. open  \\\n",
       "0                                             NaN   \n",
       "1                                          181.15   \n",
       "\n",
       "   Time Series (5min).2024-02-28 16:40:00.2. high  \\\n",
       "0                                             NaN   \n",
       "1                                          181.42   \n",
       "\n",
       "   Time Series (5min).2024-02-28 16:40:00.3. low  \\\n",
       "0                                            NaN   \n",
       "1                                          181.1   \n",
       "\n",
       "   Time Series (5min).2024-02-28 16:40:00.4. close  \\\n",
       "0                                              NaN   \n",
       "1                                          181.115   \n",
       "\n",
       "   Time Series (5min).2024-02-28 16:40:00.5. volume  \\\n",
       "0                                               NaN   \n",
       "1                                           48766.0   \n",
       "\n",
       "   Time Series (5min).2024-02-28 16:20:00.1. open  \\\n",
       "0                                             NaN   \n",
       "1                                         181.335   \n",
       "\n",
       "   Time Series (5min).2024-02-28 16:20:00.2. high  \\\n",
       "0                                             NaN   \n",
       "1                                          181.42   \n",
       "\n",
       "   Time Series (5min).2024-02-28 16:20:00.3. low  \\\n",
       "0                                            NaN   \n",
       "1                                         181.15   \n",
       "\n",
       "   Time Series (5min).2024-02-28 16:20:00.4. close  \\\n",
       "0                                              NaN   \n",
       "1                                          181.285   \n",
       "\n",
       "   Time Series (5min).2024-02-28 16:20:00.5. volume  \n",
       "0                                               NaN  \n",
       "1                                           23436.0  \n",
       "\n",
       "[2 rows x 597 columns]"
      ]
     },
     "execution_count": 3,
     "metadata": {},
     "output_type": "execute_result"
    }
   ],
   "source": [
    "df"
   ]
  },
  {
   "cell_type": "code",
   "execution_count": 4,
   "id": "affb5021",
   "metadata": {},
   "outputs": [
    {
     "name": "stdout",
     "output_type": "stream",
     "text": [
      "Unnamed: 0\n",
      "Meta Data.1. Information\n",
      "Meta Data.2. Symbol\n",
      "Meta Data.3. Last Refreshed\n",
      "Meta Data.4. Interval\n",
      "Meta Data.5. Output Size\n",
      "Meta Data.6. Time Zone\n",
      "Time Series (5min).2024-02-28 19:35:00.1. open\n",
      "Time Series (5min).2024-02-28 19:35:00.2. high\n",
      "Time Series (5min).2024-02-28 19:35:00.3. low\n",
      "Time Series (5min).2024-02-28 19:35:00.4. close\n",
      "Time Series (5min).2024-02-28 19:35:00.5. volume\n",
      "Time Series (5min).2024-02-28 19:25:00.1. open\n",
      "Time Series (5min).2024-02-28 19:25:00.2. high\n",
      "Time Series (5min).2024-02-28 19:25:00.3. low\n",
      "Time Series (5min).2024-02-28 19:25:00.4. close\n",
      "Time Series (5min).2024-02-28 19:25:00.5. volume\n",
      "Time Series (5min).2024-02-28 19:15:00.1. open\n",
      "Time Series (5min).2024-02-28 19:15:00.2. high\n",
      "Time Series (5min).2024-02-28 19:15:00.3. low\n",
      "Time Series (5min).2024-02-28 19:15:00.4. close\n",
      "Time Series (5min).2024-02-28 19:15:00.5. volume\n",
      "Time Series (5min).2024-02-28 19:00:00.1. open\n",
      "Time Series (5min).2024-02-28 19:00:00.2. high\n",
      "Time Series (5min).2024-02-28 19:00:00.3. low\n",
      "Time Series (5min).2024-02-28 19:00:00.4. close\n",
      "Time Series (5min).2024-02-28 19:00:00.5. volume\n",
      "Time Series (5min).2024-02-28 18:50:00.1. open\n",
      "Time Series (5min).2024-02-28 18:50:00.2. high\n",
      "Time Series (5min).2024-02-28 18:50:00.3. low\n",
      "Time Series (5min).2024-02-28 18:50:00.4. close\n",
      "Time Series (5min).2024-02-28 18:50:00.5. volume\n",
      "Time Series (5min).2024-02-28 18:45:00.1. open\n",
      "Time Series (5min).2024-02-28 18:45:00.2. high\n",
      "Time Series (5min).2024-02-28 18:45:00.3. low\n",
      "Time Series (5min).2024-02-28 18:45:00.4. close\n",
      "Time Series (5min).2024-02-28 18:45:00.5. volume\n",
      "Time Series (5min).2024-02-28 18:30:00.1. open\n",
      "Time Series (5min).2024-02-28 18:30:00.2. high\n",
      "Time Series (5min).2024-02-28 18:30:00.3. low\n",
      "Time Series (5min).2024-02-28 18:30:00.4. close\n",
      "Time Series (5min).2024-02-28 18:30:00.5. volume\n",
      "Time Series (5min).2024-02-28 18:25:00.1. open\n",
      "Time Series (5min).2024-02-28 18:25:00.2. high\n",
      "Time Series (5min).2024-02-28 18:25:00.3. low\n",
      "Time Series (5min).2024-02-28 18:25:00.4. close\n",
      "Time Series (5min).2024-02-28 18:25:00.5. volume\n",
      "Time Series (5min).2024-02-28 18:10:00.1. open\n",
      "Time Series (5min).2024-02-28 18:10:00.2. high\n",
      "Time Series (5min).2024-02-28 18:10:00.3. low\n",
      "Time Series (5min).2024-02-28 18:10:00.4. close\n",
      "Time Series (5min).2024-02-28 18:10:00.5. volume\n",
      "Time Series (5min).2024-02-28 18:00:00.1. open\n",
      "Time Series (5min).2024-02-28 18:00:00.2. high\n",
      "Time Series (5min).2024-02-28 18:00:00.3. low\n",
      "Time Series (5min).2024-02-28 18:00:00.4. close\n",
      "Time Series (5min).2024-02-28 18:00:00.5. volume\n",
      "Time Series (5min).2024-02-28 17:45:00.1. open\n",
      "Time Series (5min).2024-02-28 17:45:00.2. high\n",
      "Time Series (5min).2024-02-28 17:45:00.3. low\n",
      "Time Series (5min).2024-02-28 17:45:00.4. close\n",
      "Time Series (5min).2024-02-28 17:45:00.5. volume\n",
      "Time Series (5min).2024-02-28 17:40:00.1. open\n",
      "Time Series (5min).2024-02-28 17:40:00.2. high\n",
      "Time Series (5min).2024-02-28 17:40:00.3. low\n",
      "Time Series (5min).2024-02-28 17:40:00.4. close\n",
      "Time Series (5min).2024-02-28 17:40:00.5. volume\n",
      "Time Series (5min).2024-02-28 17:35:00.1. open\n",
      "Time Series (5min).2024-02-28 17:35:00.2. high\n",
      "Time Series (5min).2024-02-28 17:35:00.3. low\n",
      "Time Series (5min).2024-02-28 17:35:00.4. close\n",
      "Time Series (5min).2024-02-28 17:35:00.5. volume\n",
      "Time Series (5min).2024-02-28 17:30:00.1. open\n",
      "Time Series (5min).2024-02-28 17:30:00.2. high\n",
      "Time Series (5min).2024-02-28 17:30:00.3. low\n",
      "Time Series (5min).2024-02-28 17:30:00.4. close\n",
      "Time Series (5min).2024-02-28 17:30:00.5. volume\n",
      "Time Series (5min).2024-02-28 17:25:00.1. open\n",
      "Time Series (5min).2024-02-28 17:25:00.2. high\n",
      "Time Series (5min).2024-02-28 17:25:00.3. low\n",
      "Time Series (5min).2024-02-28 17:25:00.4. close\n",
      "Time Series (5min).2024-02-28 17:25:00.5. volume\n",
      "Time Series (5min).2024-02-28 17:20:00.1. open\n",
      "Time Series (5min).2024-02-28 17:20:00.2. high\n",
      "Time Series (5min).2024-02-28 17:20:00.3. low\n",
      "Time Series (5min).2024-02-28 17:20:00.4. close\n",
      "Time Series (5min).2024-02-28 17:20:00.5. volume\n",
      "Time Series (5min).2024-02-28 17:15:00.1. open\n",
      "Time Series (5min).2024-02-28 17:15:00.2. high\n",
      "Time Series (5min).2024-02-28 17:15:00.3. low\n",
      "Time Series (5min).2024-02-28 17:15:00.4. close\n",
      "Time Series (5min).2024-02-28 17:15:00.5. volume\n",
      "Time Series (5min).2024-02-28 17:10:00.1. open\n",
      "Time Series (5min).2024-02-28 17:10:00.2. high\n",
      "Time Series (5min).2024-02-28 17:10:00.3. low\n",
      "Time Series (5min).2024-02-28 17:10:00.4. close\n",
      "Time Series (5min).2024-02-28 17:10:00.5. volume\n",
      "Time Series (5min).2024-02-28 17:05:00.1. open\n",
      "Time Series (5min).2024-02-28 17:05:00.2. high\n",
      "Time Series (5min).2024-02-28 17:05:00.3. low\n",
      "Time Series (5min).2024-02-28 17:05:00.4. close\n",
      "Time Series (5min).2024-02-28 17:05:00.5. volume\n",
      "Time Series (5min).2024-02-28 16:55:00.1. open\n",
      "Time Series (5min).2024-02-28 16:55:00.2. high\n",
      "Time Series (5min).2024-02-28 16:55:00.3. low\n",
      "Time Series (5min).2024-02-28 16:55:00.4. close\n",
      "Time Series (5min).2024-02-28 16:55:00.5. volume\n",
      "Time Series (5min).2024-02-28 16:35:00.1. open\n",
      "Time Series (5min).2024-02-28 16:35:00.2. high\n",
      "Time Series (5min).2024-02-28 16:35:00.3. low\n",
      "Time Series (5min).2024-02-28 16:35:00.4. close\n",
      "Time Series (5min).2024-02-28 16:35:00.5. volume\n",
      "Time Series (5min).2024-02-28 16:30:00.1. open\n",
      "Time Series (5min).2024-02-28 16:30:00.2. high\n",
      "Time Series (5min).2024-02-28 16:30:00.3. low\n",
      "Time Series (5min).2024-02-28 16:30:00.4. close\n",
      "Time Series (5min).2024-02-28 16:30:00.5. volume\n",
      "Time Series (5min).2024-02-28 16:25:00.1. open\n",
      "Time Series (5min).2024-02-28 16:25:00.2. high\n",
      "Time Series (5min).2024-02-28 16:25:00.3. low\n",
      "Time Series (5min).2024-02-28 16:25:00.4. close\n",
      "Time Series (5min).2024-02-28 16:25:00.5. volume\n",
      "Time Series (5min).2024-02-28 16:15:00.1. open\n",
      "Time Series (5min).2024-02-28 16:15:00.2. high\n",
      "Time Series (5min).2024-02-28 16:15:00.3. low\n",
      "Time Series (5min).2024-02-28 16:15:00.4. close\n",
      "Time Series (5min).2024-02-28 16:15:00.5. volume\n",
      "Time Series (5min).2024-02-28 16:10:00.1. open\n",
      "Time Series (5min).2024-02-28 16:10:00.2. high\n",
      "Time Series (5min).2024-02-28 16:10:00.3. low\n",
      "Time Series (5min).2024-02-28 16:10:00.4. close\n",
      "Time Series (5min).2024-02-28 16:10:00.5. volume\n",
      "Time Series (5min).2024-02-28 16:05:00.1. open\n",
      "Time Series (5min).2024-02-28 16:05:00.2. high\n",
      "Time Series (5min).2024-02-28 16:05:00.3. low\n",
      "Time Series (5min).2024-02-28 16:05:00.4. close\n",
      "Time Series (5min).2024-02-28 16:05:00.5. volume\n",
      "Time Series (5min).2024-02-28 16:00:00.1. open\n",
      "Time Series (5min).2024-02-28 16:00:00.2. high\n",
      "Time Series (5min).2024-02-28 16:00:00.3. low\n",
      "Time Series (5min).2024-02-28 16:00:00.4. close\n",
      "Time Series (5min).2024-02-28 16:00:00.5. volume\n",
      "Time Series (5min).2024-02-28 15:55:00.1. open\n",
      "Time Series (5min).2024-02-28 15:55:00.2. high\n",
      "Time Series (5min).2024-02-28 15:55:00.3. low\n",
      "Time Series (5min).2024-02-28 15:55:00.4. close\n",
      "Time Series (5min).2024-02-28 15:55:00.5. volume\n",
      "Time Series (5min).2024-02-28 15:50:00.1. open\n",
      "Time Series (5min).2024-02-28 15:50:00.2. high\n",
      "Time Series (5min).2024-02-28 15:50:00.3. low\n",
      "Time Series (5min).2024-02-28 15:50:00.4. close\n",
      "Time Series (5min).2024-02-28 15:50:00.5. volume\n",
      "Time Series (5min).2024-02-28 15:45:00.1. open\n",
      "Time Series (5min).2024-02-28 15:45:00.2. high\n",
      "Time Series (5min).2024-02-28 15:45:00.3. low\n",
      "Time Series (5min).2024-02-28 15:45:00.4. close\n",
      "Time Series (5min).2024-02-28 15:45:00.5. volume\n",
      "Time Series (5min).2024-02-28 15:40:00.1. open\n",
      "Time Series (5min).2024-02-28 15:40:00.2. high\n",
      "Time Series (5min).2024-02-28 15:40:00.3. low\n",
      "Time Series (5min).2024-02-28 15:40:00.4. close\n",
      "Time Series (5min).2024-02-28 15:40:00.5. volume\n",
      "Time Series (5min).2024-02-28 15:35:00.1. open\n",
      "Time Series (5min).2024-02-28 15:35:00.2. high\n",
      "Time Series (5min).2024-02-28 15:35:00.3. low\n",
      "Time Series (5min).2024-02-28 15:35:00.4. close\n",
      "Time Series (5min).2024-02-28 15:35:00.5. volume\n",
      "Time Series (5min).2024-02-28 15:30:00.1. open\n",
      "Time Series (5min).2024-02-28 15:30:00.2. high\n",
      "Time Series (5min).2024-02-28 15:30:00.3. low\n",
      "Time Series (5min).2024-02-28 15:30:00.4. close\n",
      "Time Series (5min).2024-02-28 15:30:00.5. volume\n",
      "Time Series (5min).2024-02-28 15:25:00.1. open\n",
      "Time Series (5min).2024-02-28 15:25:00.2. high\n",
      "Time Series (5min).2024-02-28 15:25:00.3. low\n",
      "Time Series (5min).2024-02-28 15:25:00.4. close\n",
      "Time Series (5min).2024-02-28 15:25:00.5. volume\n",
      "Time Series (5min).2024-02-28 15:20:00.1. open\n",
      "Time Series (5min).2024-02-28 15:20:00.2. high\n",
      "Time Series (5min).2024-02-28 15:20:00.3. low\n",
      "Time Series (5min).2024-02-28 15:20:00.4. close\n",
      "Time Series (5min).2024-02-28 15:20:00.5. volume\n",
      "Time Series (5min).2024-02-28 15:15:00.1. open\n",
      "Time Series (5min).2024-02-28 15:15:00.2. high\n",
      "Time Series (5min).2024-02-28 15:15:00.3. low\n",
      "Time Series (5min).2024-02-28 15:15:00.4. close\n",
      "Time Series (5min).2024-02-28 15:15:00.5. volume\n",
      "Time Series (5min).2024-02-28 15:10:00.1. open\n",
      "Time Series (5min).2024-02-28 15:10:00.2. high\n",
      "Time Series (5min).2024-02-28 15:10:00.3. low\n",
      "Time Series (5min).2024-02-28 15:10:00.4. close\n",
      "Time Series (5min).2024-02-28 15:10:00.5. volume\n",
      "Time Series (5min).2024-02-28 15:05:00.1. open\n",
      "Time Series (5min).2024-02-28 15:05:00.2. high\n",
      "Time Series (5min).2024-02-28 15:05:00.3. low\n",
      "Time Series (5min).2024-02-28 15:05:00.4. close\n",
      "Time Series (5min).2024-02-28 15:05:00.5. volume\n",
      "Time Series (5min).2024-02-28 15:00:00.1. open\n",
      "Time Series (5min).2024-02-28 15:00:00.2. high\n",
      "Time Series (5min).2024-02-28 15:00:00.3. low\n",
      "Time Series (5min).2024-02-28 15:00:00.4. close\n",
      "Time Series (5min).2024-02-28 15:00:00.5. volume\n",
      "Time Series (5min).2024-02-28 14:55:00.1. open\n",
      "Time Series (5min).2024-02-28 14:55:00.2. high\n",
      "Time Series (5min).2024-02-28 14:55:00.3. low\n",
      "Time Series (5min).2024-02-28 14:55:00.4. close\n",
      "Time Series (5min).2024-02-28 14:55:00.5. volume\n",
      "Time Series (5min).2024-02-28 14:50:00.1. open\n",
      "Time Series (5min).2024-02-28 14:50:00.2. high\n",
      "Time Series (5min).2024-02-28 14:50:00.3. low\n",
      "Time Series (5min).2024-02-28 14:50:00.4. close\n",
      "Time Series (5min).2024-02-28 14:50:00.5. volume\n",
      "Time Series (5min).2024-02-28 14:45:00.1. open\n",
      "Time Series (5min).2024-02-28 14:45:00.2. high\n",
      "Time Series (5min).2024-02-28 14:45:00.3. low\n",
      "Time Series (5min).2024-02-28 14:45:00.4. close\n",
      "Time Series (5min).2024-02-28 14:45:00.5. volume\n",
      "Time Series (5min).2024-02-28 14:40:00.1. open\n",
      "Time Series (5min).2024-02-28 14:40:00.2. high\n",
      "Time Series (5min).2024-02-28 14:40:00.3. low\n",
      "Time Series (5min).2024-02-28 14:40:00.4. close\n",
      "Time Series (5min).2024-02-28 14:40:00.5. volume\n",
      "Time Series (5min).2024-02-28 14:35:00.1. open\n",
      "Time Series (5min).2024-02-28 14:35:00.2. high\n",
      "Time Series (5min).2024-02-28 14:35:00.3. low\n",
      "Time Series (5min).2024-02-28 14:35:00.4. close\n",
      "Time Series (5min).2024-02-28 14:35:00.5. volume\n",
      "Time Series (5min).2024-02-28 14:30:00.1. open\n",
      "Time Series (5min).2024-02-28 14:30:00.2. high\n",
      "Time Series (5min).2024-02-28 14:30:00.3. low\n",
      "Time Series (5min).2024-02-28 14:30:00.4. close\n",
      "Time Series (5min).2024-02-28 14:30:00.5. volume\n",
      "Time Series (5min).2024-02-28 14:25:00.1. open\n",
      "Time Series (5min).2024-02-28 14:25:00.2. high\n",
      "Time Series (5min).2024-02-28 14:25:00.3. low\n",
      "Time Series (5min).2024-02-28 14:25:00.4. close\n",
      "Time Series (5min).2024-02-28 14:25:00.5. volume\n",
      "Time Series (5min).2024-02-28 14:20:00.1. open\n",
      "Time Series (5min).2024-02-28 14:20:00.2. high\n",
      "Time Series (5min).2024-02-28 14:20:00.3. low\n",
      "Time Series (5min).2024-02-28 14:20:00.4. close\n",
      "Time Series (5min).2024-02-28 14:20:00.5. volume\n",
      "Time Series (5min).2024-02-28 14:15:00.1. open\n",
      "Time Series (5min).2024-02-28 14:15:00.2. high\n",
      "Time Series (5min).2024-02-28 14:15:00.3. low\n",
      "Time Series (5min).2024-02-28 14:15:00.4. close\n",
      "Time Series (5min).2024-02-28 14:15:00.5. volume\n",
      "Time Series (5min).2024-02-28 14:10:00.1. open\n",
      "Time Series (5min).2024-02-28 14:10:00.2. high\n",
      "Time Series (5min).2024-02-28 14:10:00.3. low\n",
      "Time Series (5min).2024-02-28 14:10:00.4. close\n",
      "Time Series (5min).2024-02-28 14:10:00.5. volume\n",
      "Time Series (5min).2024-02-28 14:05:00.1. open\n",
      "Time Series (5min).2024-02-28 14:05:00.2. high\n",
      "Time Series (5min).2024-02-28 14:05:00.3. low\n",
      "Time Series (5min).2024-02-28 14:05:00.4. close\n",
      "Time Series (5min).2024-02-28 14:05:00.5. volume\n",
      "Time Series (5min).2024-02-28 14:00:00.1. open\n",
      "Time Series (5min).2024-02-28 14:00:00.2. high\n",
      "Time Series (5min).2024-02-28 14:00:00.3. low\n",
      "Time Series (5min).2024-02-28 14:00:00.4. close\n",
      "Time Series (5min).2024-02-28 14:00:00.5. volume\n",
      "Time Series (5min).2024-02-28 13:55:00.1. open\n",
      "Time Series (5min).2024-02-28 13:55:00.2. high\n",
      "Time Series (5min).2024-02-28 13:55:00.3. low\n",
      "Time Series (5min).2024-02-28 13:55:00.4. close\n",
      "Time Series (5min).2024-02-28 13:55:00.5. volume\n",
      "Time Series (5min).2024-02-28 13:50:00.1. open\n",
      "Time Series (5min).2024-02-28 13:50:00.2. high\n",
      "Time Series (5min).2024-02-28 13:50:00.3. low\n",
      "Time Series (5min).2024-02-28 13:50:00.4. close\n",
      "Time Series (5min).2024-02-28 13:50:00.5. volume\n",
      "Time Series (5min).2024-02-28 13:45:00.1. open\n",
      "Time Series (5min).2024-02-28 13:45:00.2. high\n",
      "Time Series (5min).2024-02-28 13:45:00.3. low\n",
      "Time Series (5min).2024-02-28 13:45:00.4. close\n",
      "Time Series (5min).2024-02-28 13:45:00.5. volume\n",
      "Time Series (5min).2024-02-28 13:40:00.1. open\n",
      "Time Series (5min).2024-02-28 13:40:00.2. high\n",
      "Time Series (5min).2024-02-28 13:40:00.3. low\n",
      "Time Series (5min).2024-02-28 13:40:00.4. close\n",
      "Time Series (5min).2024-02-28 13:40:00.5. volume\n",
      "Time Series (5min).2024-02-28 13:35:00.1. open\n",
      "Time Series (5min).2024-02-28 13:35:00.2. high\n",
      "Time Series (5min).2024-02-28 13:35:00.3. low\n",
      "Time Series (5min).2024-02-28 13:35:00.4. close\n",
      "Time Series (5min).2024-02-28 13:35:00.5. volume\n",
      "Time Series (5min).2024-02-28 13:30:00.1. open\n",
      "Time Series (5min).2024-02-28 13:30:00.2. high\n",
      "Time Series (5min).2024-02-28 13:30:00.3. low\n",
      "Time Series (5min).2024-02-28 13:30:00.4. close\n",
      "Time Series (5min).2024-02-28 13:30:00.5. volume\n",
      "Time Series (5min).2024-02-28 13:25:00.1. open\n",
      "Time Series (5min).2024-02-28 13:25:00.2. high\n",
      "Time Series (5min).2024-02-28 13:25:00.3. low\n",
      "Time Series (5min).2024-02-28 13:25:00.4. close\n",
      "Time Series (5min).2024-02-28 13:25:00.5. volume\n",
      "Time Series (5min).2024-02-28 13:20:00.1. open\n",
      "Time Series (5min).2024-02-28 13:20:00.2. high\n",
      "Time Series (5min).2024-02-28 13:20:00.3. low\n",
      "Time Series (5min).2024-02-28 13:20:00.4. close\n",
      "Time Series (5min).2024-02-28 13:20:00.5. volume\n",
      "Time Series (5min).2024-02-28 13:15:00.1. open\n",
      "Time Series (5min).2024-02-28 13:15:00.2. high\n",
      "Time Series (5min).2024-02-28 13:15:00.3. low\n",
      "Time Series (5min).2024-02-28 13:15:00.4. close\n",
      "Time Series (5min).2024-02-28 13:15:00.5. volume\n",
      "Time Series (5min).2024-02-28 13:10:00.1. open\n",
      "Time Series (5min).2024-02-28 13:10:00.2. high\n",
      "Time Series (5min).2024-02-28 13:10:00.3. low\n",
      "Time Series (5min).2024-02-28 13:10:00.4. close\n",
      "Time Series (5min).2024-02-28 13:10:00.5. volume\n",
      "Time Series (5min).2024-02-28 13:05:00.1. open\n",
      "Time Series (5min).2024-02-28 13:05:00.2. high\n",
      "Time Series (5min).2024-02-28 13:05:00.3. low\n",
      "Time Series (5min).2024-02-28 13:05:00.4. close\n",
      "Time Series (5min).2024-02-28 13:05:00.5. volume\n",
      "Time Series (5min).2024-02-28 13:00:00.1. open\n",
      "Time Series (5min).2024-02-28 13:00:00.2. high\n",
      "Time Series (5min).2024-02-28 13:00:00.3. low\n",
      "Time Series (5min).2024-02-28 13:00:00.4. close\n",
      "Time Series (5min).2024-02-28 13:00:00.5. volume\n",
      "Time Series (5min).2024-02-28 12:55:00.1. open\n",
      "Time Series (5min).2024-02-28 12:55:00.2. high\n",
      "Time Series (5min).2024-02-28 12:55:00.3. low\n",
      "Time Series (5min).2024-02-28 12:55:00.4. close\n",
      "Time Series (5min).2024-02-28 12:55:00.5. volume\n",
      "Time Series (5min).2024-02-28 12:50:00.1. open\n",
      "Time Series (5min).2024-02-28 12:50:00.2. high\n",
      "Time Series (5min).2024-02-28 12:50:00.3. low\n",
      "Time Series (5min).2024-02-28 12:50:00.4. close\n",
      "Time Series (5min).2024-02-28 12:50:00.5. volume\n",
      "Time Series (5min).2024-02-28 12:45:00.1. open\n",
      "Time Series (5min).2024-02-28 12:45:00.2. high\n",
      "Time Series (5min).2024-02-28 12:45:00.3. low\n",
      "Time Series (5min).2024-02-28 12:45:00.4. close\n",
      "Time Series (5min).2024-02-28 12:45:00.5. volume\n",
      "Time Series (5min).2024-02-28 12:40:00.1. open\n",
      "Time Series (5min).2024-02-28 12:40:00.2. high\n",
      "Time Series (5min).2024-02-28 12:40:00.3. low\n",
      "Time Series (5min).2024-02-28 12:40:00.4. close\n",
      "Time Series (5min).2024-02-28 12:40:00.5. volume\n",
      "Time Series (5min).2024-02-28 12:35:00.1. open\n",
      "Time Series (5min).2024-02-28 12:35:00.2. high\n",
      "Time Series (5min).2024-02-28 12:35:00.3. low\n",
      "Time Series (5min).2024-02-28 12:35:00.4. close\n",
      "Time Series (5min).2024-02-28 12:35:00.5. volume\n",
      "Time Series (5min).2024-02-28 12:30:00.1. open\n",
      "Time Series (5min).2024-02-28 12:30:00.2. high\n",
      "Time Series (5min).2024-02-28 12:30:00.3. low\n",
      "Time Series (5min).2024-02-28 12:30:00.4. close\n",
      "Time Series (5min).2024-02-28 12:30:00.5. volume\n",
      "Time Series (5min).2024-02-28 12:25:00.1. open\n",
      "Time Series (5min).2024-02-28 12:25:00.2. high\n",
      "Time Series (5min).2024-02-28 12:25:00.3. low\n",
      "Time Series (5min).2024-02-28 12:25:00.4. close\n",
      "Time Series (5min).2024-02-28 12:25:00.5. volume\n",
      "Time Series (5min).2024-02-28 12:20:00.1. open\n",
      "Time Series (5min).2024-02-28 12:20:00.2. high\n",
      "Time Series (5min).2024-02-28 12:20:00.3. low\n",
      "Time Series (5min).2024-02-28 12:20:00.4. close\n",
      "Time Series (5min).2024-02-28 12:20:00.5. volume\n",
      "Time Series (5min).2024-02-28 12:15:00.1. open\n",
      "Time Series (5min).2024-02-28 12:15:00.2. high\n",
      "Time Series (5min).2024-02-28 12:15:00.3. low\n",
      "Time Series (5min).2024-02-28 12:15:00.4. close\n",
      "Time Series (5min).2024-02-28 12:15:00.5. volume\n",
      "Time Series (5min).2024-02-28 12:10:00.1. open\n",
      "Time Series (5min).2024-02-28 12:10:00.2. high\n",
      "Time Series (5min).2024-02-28 12:10:00.3. low\n",
      "Time Series (5min).2024-02-28 12:10:00.4. close\n",
      "Time Series (5min).2024-02-28 12:10:00.5. volume\n",
      "Time Series (5min).2024-02-28 12:05:00.1. open\n",
      "Time Series (5min).2024-02-28 12:05:00.2. high\n",
      "Time Series (5min).2024-02-28 12:05:00.3. low\n",
      "Time Series (5min).2024-02-28 12:05:00.4. close\n",
      "Time Series (5min).2024-02-28 12:05:00.5. volume\n",
      "Time Series (5min).2024-02-28 12:00:00.1. open\n",
      "Time Series (5min).2024-02-28 12:00:00.2. high\n",
      "Time Series (5min).2024-02-28 12:00:00.3. low\n",
      "Time Series (5min).2024-02-28 12:00:00.4. close\n",
      "Time Series (5min).2024-02-28 12:00:00.5. volume\n",
      "Time Series (5min).2024-02-28 11:55:00.1. open\n",
      "Time Series (5min).2024-02-28 11:55:00.2. high\n",
      "Time Series (5min).2024-02-28 11:55:00.3. low\n",
      "Time Series (5min).2024-02-28 11:55:00.4. close\n",
      "Time Series (5min).2024-02-28 11:55:00.5. volume\n",
      "Time Series (5min).2024-02-28 11:50:00.1. open\n",
      "Time Series (5min).2024-02-28 11:50:00.2. high\n",
      "Time Series (5min).2024-02-28 11:50:00.3. low\n",
      "Time Series (5min).2024-02-28 11:50:00.4. close\n",
      "Time Series (5min).2024-02-28 11:50:00.5. volume\n",
      "Time Series (5min).2024-02-28 11:45:00.1. open\n",
      "Time Series (5min).2024-02-28 11:45:00.2. high\n",
      "Time Series (5min).2024-02-28 11:45:00.3. low\n",
      "Time Series (5min).2024-02-28 11:45:00.4. close\n",
      "Time Series (5min).2024-02-28 11:45:00.5. volume\n",
      "Time Series (5min).2024-02-28 11:40:00.1. open\n",
      "Time Series (5min).2024-02-28 11:40:00.2. high\n",
      "Time Series (5min).2024-02-28 11:40:00.3. low\n",
      "Time Series (5min).2024-02-28 11:40:00.4. close\n",
      "Time Series (5min).2024-02-28 11:40:00.5. volume\n",
      "Time Series (5min).2024-02-28 11:35:00.1. open\n",
      "Time Series (5min).2024-02-28 11:35:00.2. high\n",
      "Time Series (5min).2024-02-28 11:35:00.3. low\n",
      "Time Series (5min).2024-02-28 11:35:00.4. close\n",
      "Time Series (5min).2024-02-28 11:35:00.5. volume\n",
      "Time Series (5min).2024-02-28 11:30:00.1. open\n",
      "Time Series (5min).2024-02-28 11:30:00.2. high\n",
      "Time Series (5min).2024-02-28 11:30:00.3. low\n",
      "Time Series (5min).2024-02-28 11:30:00.4. close\n",
      "Time Series (5min).2024-02-28 11:30:00.5. volume\n",
      "Time Series (5min).2024-02-28 11:25:00.1. open\n",
      "Time Series (5min).2024-02-28 11:25:00.2. high\n",
      "Time Series (5min).2024-02-28 11:25:00.3. low\n",
      "Time Series (5min).2024-02-28 11:25:00.4. close\n",
      "Time Series (5min).2024-02-28 11:25:00.5. volume\n",
      "Time Series (5min).2024-02-28 11:20:00.1. open\n",
      "Time Series (5min).2024-02-28 11:20:00.2. high\n",
      "Time Series (5min).2024-02-28 11:20:00.3. low\n",
      "Time Series (5min).2024-02-28 11:20:00.4. close\n",
      "Time Series (5min).2024-02-28 11:20:00.5. volume\n",
      "Time Series (5min).2024-02-28 11:15:00.1. open\n",
      "Time Series (5min).2024-02-28 11:15:00.2. high\n",
      "Time Series (5min).2024-02-28 11:15:00.3. low\n",
      "Time Series (5min).2024-02-28 11:15:00.4. close\n",
      "Time Series (5min).2024-02-28 11:15:00.5. volume\n",
      "Time Series (5min).2024-02-28 11:10:00.1. open\n",
      "Time Series (5min).2024-02-28 11:10:00.2. high\n",
      "Time Series (5min).2024-02-28 11:10:00.3. low\n",
      "Time Series (5min).2024-02-28 11:10:00.4. close\n",
      "Time Series (5min).2024-02-28 11:10:00.5. volume\n",
      "Time Series (5min).2024-02-28 11:05:00.1. open\n",
      "Time Series (5min).2024-02-28 11:05:00.2. high\n",
      "Time Series (5min).2024-02-28 11:05:00.3. low\n",
      "Time Series (5min).2024-02-28 11:05:00.4. close\n",
      "Time Series (5min).2024-02-28 11:05:00.5. volume\n",
      "Time Series (5min).2024-02-28 11:00:00.1. open\n",
      "Time Series (5min).2024-02-28 11:00:00.2. high\n",
      "Time Series (5min).2024-02-28 11:00:00.3. low\n",
      "Time Series (5min).2024-02-28 11:00:00.4. close\n",
      "Time Series (5min).2024-02-28 11:00:00.5. volume\n",
      "Time Series (5min).2024-02-28 10:55:00.1. open\n",
      "Time Series (5min).2024-02-28 10:55:00.2. high\n",
      "Time Series (5min).2024-02-28 10:55:00.3. low\n",
      "Time Series (5min).2024-02-28 10:55:00.4. close\n",
      "Time Series (5min).2024-02-28 10:55:00.5. volume\n",
      "Time Series (5min).2024-02-28 10:50:00.1. open\n",
      "Time Series (5min).2024-02-28 10:50:00.2. high\n",
      "Time Series (5min).2024-02-28 10:50:00.3. low\n",
      "Time Series (5min).2024-02-28 10:50:00.4. close\n",
      "Time Series (5min).2024-02-28 10:50:00.5. volume\n",
      "Time Series (5min).2024-02-28 10:45:00.1. open\n",
      "Time Series (5min).2024-02-28 10:45:00.2. high\n",
      "Time Series (5min).2024-02-28 10:45:00.3. low\n",
      "Time Series (5min).2024-02-28 10:45:00.4. close\n",
      "Time Series (5min).2024-02-28 10:45:00.5. volume\n",
      "Time Series (5min).2024-02-28 10:40:00.1. open\n",
      "Time Series (5min).2024-02-28 10:40:00.2. high\n",
      "Time Series (5min).2024-02-28 10:40:00.3. low\n",
      "Time Series (5min).2024-02-28 10:40:00.4. close\n",
      "Time Series (5min).2024-02-28 10:40:00.5. volume\n",
      "Time Series (5min).2024-02-28 10:35:00.1. open\n",
      "Time Series (5min).2024-02-28 10:35:00.2. high\n",
      "Time Series (5min).2024-02-28 10:35:00.3. low\n",
      "Time Series (5min).2024-02-28 10:35:00.4. close\n",
      "Time Series (5min).2024-02-28 10:35:00.5. volume\n",
      "Time Series (5min).2024-02-28 10:30:00.1. open\n",
      "Time Series (5min).2024-02-28 10:30:00.2. high\n",
      "Time Series (5min).2024-02-28 10:30:00.3. low\n",
      "Time Series (5min).2024-02-28 10:30:00.4. close\n",
      "Time Series (5min).2024-02-28 10:30:00.5. volume\n",
      "Time Series (5min).2024-02-28 10:25:00.1. open\n",
      "Time Series (5min).2024-02-28 10:25:00.2. high\n",
      "Time Series (5min).2024-02-28 10:25:00.3. low\n",
      "Time Series (5min).2024-02-28 10:25:00.4. close\n",
      "Time Series (5min).2024-02-28 10:25:00.5. volume\n",
      "Time Series (5min).2024-02-28 10:20:00.1. open\n",
      "Time Series (5min).2024-02-28 10:20:00.2. high\n",
      "Time Series (5min).2024-02-28 10:20:00.3. low\n",
      "Time Series (5min).2024-02-28 10:20:00.4. close\n",
      "Time Series (5min).2024-02-28 10:20:00.5. volume\n",
      "Time Series (5min).2024-02-28 10:15:00.1. open\n",
      "Time Series (5min).2024-02-28 10:15:00.2. high\n",
      "Time Series (5min).2024-02-28 10:15:00.3. low\n",
      "Time Series (5min).2024-02-28 10:15:00.4. close\n",
      "Time Series (5min).2024-02-28 10:15:00.5. volume\n",
      "Time Series (5min).2024-02-28 10:10:00.1. open\n",
      "Time Series (5min).2024-02-28 10:10:00.2. high\n",
      "Time Series (5min).2024-02-28 10:10:00.3. low\n",
      "Time Series (5min).2024-02-28 10:10:00.4. close\n",
      "Time Series (5min).2024-02-28 10:10:00.5. volume\n",
      "Time Series (5min).2024-02-28 10:05:00.1. open\n",
      "Time Series (5min).2024-02-28 10:05:00.2. high\n",
      "Time Series (5min).2024-02-28 10:05:00.3. low\n",
      "Time Series (5min).2024-02-28 10:05:00.4. close\n",
      "Time Series (5min).2024-02-28 10:05:00.5. volume\n",
      "Time Series (5min).2024-02-28 10:00:00.1. open\n",
      "Time Series (5min).2024-02-28 10:00:00.2. high\n",
      "Time Series (5min).2024-02-28 10:00:00.3. low\n",
      "Time Series (5min).2024-02-28 10:00:00.4. close\n",
      "Time Series (5min).2024-02-28 10:00:00.5. volume\n",
      "Time Series (5min).2024-02-28 09:55:00.1. open\n",
      "Time Series (5min).2024-02-28 09:55:00.2. high\n",
      "Time Series (5min).2024-02-28 09:55:00.3. low\n",
      "Time Series (5min).2024-02-28 09:55:00.4. close\n",
      "Time Series (5min).2024-02-28 09:55:00.5. volume\n",
      "Time Series (5min).2024-02-28 19:40:00.1. open\n",
      "Time Series (5min).2024-02-28 19:40:00.2. high\n",
      "Time Series (5min).2024-02-28 19:40:00.3. low\n",
      "Time Series (5min).2024-02-28 19:40:00.4. close\n",
      "Time Series (5min).2024-02-28 19:40:00.5. volume\n",
      "Time Series (5min).2024-02-28 19:30:00.1. open\n",
      "Time Series (5min).2024-02-28 19:30:00.2. high\n",
      "Time Series (5min).2024-02-28 19:30:00.3. low\n",
      "Time Series (5min).2024-02-28 19:30:00.4. close\n",
      "Time Series (5min).2024-02-28 19:30:00.5. volume\n",
      "Time Series (5min).2024-02-28 19:20:00.1. open\n",
      "Time Series (5min).2024-02-28 19:20:00.2. high\n",
      "Time Series (5min).2024-02-28 19:20:00.3. low\n",
      "Time Series (5min).2024-02-28 19:20:00.4. close\n",
      "Time Series (5min).2024-02-28 19:20:00.5. volume\n",
      "Time Series (5min).2024-02-28 19:10:00.1. open\n",
      "Time Series (5min).2024-02-28 19:10:00.2. high\n",
      "Time Series (5min).2024-02-28 19:10:00.3. low\n",
      "Time Series (5min).2024-02-28 19:10:00.4. close\n",
      "Time Series (5min).2024-02-28 19:10:00.5. volume\n",
      "Time Series (5min).2024-02-28 19:05:00.1. open\n",
      "Time Series (5min).2024-02-28 19:05:00.2. high\n",
      "Time Series (5min).2024-02-28 19:05:00.3. low\n",
      "Time Series (5min).2024-02-28 19:05:00.4. close\n",
      "Time Series (5min).2024-02-28 19:05:00.5. volume\n",
      "Time Series (5min).2024-02-28 18:55:00.1. open\n",
      "Time Series (5min).2024-02-28 18:55:00.2. high\n",
      "Time Series (5min).2024-02-28 18:55:00.3. low\n",
      "Time Series (5min).2024-02-28 18:55:00.4. close\n",
      "Time Series (5min).2024-02-28 18:55:00.5. volume\n",
      "Time Series (5min).2024-02-28 18:40:00.1. open\n",
      "Time Series (5min).2024-02-28 18:40:00.2. high\n",
      "Time Series (5min).2024-02-28 18:40:00.3. low\n",
      "Time Series (5min).2024-02-28 18:40:00.4. close\n",
      "Time Series (5min).2024-02-28 18:40:00.5. volume\n",
      "Time Series (5min).2024-02-28 18:35:00.1. open\n",
      "Time Series (5min).2024-02-28 18:35:00.2. high\n",
      "Time Series (5min).2024-02-28 18:35:00.3. low\n",
      "Time Series (5min).2024-02-28 18:35:00.4. close\n",
      "Time Series (5min).2024-02-28 18:35:00.5. volume\n",
      "Time Series (5min).2024-02-28 18:20:00.1. open\n",
      "Time Series (5min).2024-02-28 18:20:00.2. high\n",
      "Time Series (5min).2024-02-28 18:20:00.3. low\n",
      "Time Series (5min).2024-02-28 18:20:00.4. close\n",
      "Time Series (5min).2024-02-28 18:20:00.5. volume\n",
      "Time Series (5min).2024-02-28 18:15:00.1. open\n",
      "Time Series (5min).2024-02-28 18:15:00.2. high\n",
      "Time Series (5min).2024-02-28 18:15:00.3. low\n",
      "Time Series (5min).2024-02-28 18:15:00.4. close\n",
      "Time Series (5min).2024-02-28 18:15:00.5. volume\n",
      "Time Series (5min).2024-02-28 18:05:00.1. open\n",
      "Time Series (5min).2024-02-28 18:05:00.2. high\n",
      "Time Series (5min).2024-02-28 18:05:00.3. low\n",
      "Time Series (5min).2024-02-28 18:05:00.4. close\n",
      "Time Series (5min).2024-02-28 18:05:00.5. volume\n",
      "Time Series (5min).2024-02-28 17:55:00.1. open\n",
      "Time Series (5min).2024-02-28 17:55:00.2. high\n",
      "Time Series (5min).2024-02-28 17:55:00.3. low\n",
      "Time Series (5min).2024-02-28 17:55:00.4. close\n",
      "Time Series (5min).2024-02-28 17:55:00.5. volume\n",
      "Time Series (5min).2024-02-28 17:50:00.1. open\n",
      "Time Series (5min).2024-02-28 17:50:00.2. high\n",
      "Time Series (5min).2024-02-28 17:50:00.3. low\n",
      "Time Series (5min).2024-02-28 17:50:00.4. close\n",
      "Time Series (5min).2024-02-28 17:50:00.5. volume\n",
      "Time Series (5min).2024-02-28 17:00:00.1. open\n",
      "Time Series (5min).2024-02-28 17:00:00.2. high\n",
      "Time Series (5min).2024-02-28 17:00:00.3. low\n",
      "Time Series (5min).2024-02-28 17:00:00.4. close\n",
      "Time Series (5min).2024-02-28 17:00:00.5. volume\n",
      "Time Series (5min).2024-02-28 16:50:00.1. open\n",
      "Time Series (5min).2024-02-28 16:50:00.2. high\n",
      "Time Series (5min).2024-02-28 16:50:00.3. low\n",
      "Time Series (5min).2024-02-28 16:50:00.4. close\n",
      "Time Series (5min).2024-02-28 16:50:00.5. volume\n",
      "Time Series (5min).2024-02-28 16:45:00.1. open\n",
      "Time Series (5min).2024-02-28 16:45:00.2. high\n",
      "Time Series (5min).2024-02-28 16:45:00.3. low\n",
      "Time Series (5min).2024-02-28 16:45:00.4. close\n",
      "Time Series (5min).2024-02-28 16:45:00.5. volume\n",
      "Time Series (5min).2024-02-28 16:40:00.1. open\n",
      "Time Series (5min).2024-02-28 16:40:00.2. high\n",
      "Time Series (5min).2024-02-28 16:40:00.3. low\n",
      "Time Series (5min).2024-02-28 16:40:00.4. close\n",
      "Time Series (5min).2024-02-28 16:40:00.5. volume\n",
      "Time Series (5min).2024-02-28 16:20:00.1. open\n",
      "Time Series (5min).2024-02-28 16:20:00.2. high\n",
      "Time Series (5min).2024-02-28 16:20:00.3. low\n",
      "Time Series (5min).2024-02-28 16:20:00.4. close\n",
      "Time Series (5min).2024-02-28 16:20:00.5. volume\n"
     ]
    }
   ],
   "source": [
    "for col in df.columns:\n",
    "    print(col)"
   ]
  },
  {
   "cell_type": "code",
   "execution_count": 21,
   "id": "0bf4be86",
   "metadata": {},
   "outputs": [],
   "source": [
    "# Returns Open Values for IBM\n",
    "Open = []\n",
    "for col in range(7, len(df.columns), 5):\n",
    "    Open.append(df.iloc[0, col])\n",
    "    \n",
    "# Returns High Values for IBM\n",
    "High = []\n",
    "for col in range(8, len(df.columns), 5):\n",
    "    High.append(df.iloc[0, col])\n",
    "    \n",
    "# Returns Low Values for IBM\n",
    "Low = []\n",
    "for col in range(9, len(df.columns), 5):\n",
    "    Low.append(df.iloc[0, col])\n",
    "    \n",
    "# Returns Close Values for IBM\n",
    "Close = []\n",
    "for col in range(10, len(df.columns), 5):\n",
    "    Close.append(df.iloc[0, col])\n",
    "    \n",
    "# Returns Vol Values for IBM\n",
    "Vol = []\n",
    "for col in range(11, len(df.columns), 5):\n",
    "    Vol.append(df.iloc[0, col])"
   ]
  },
  {
   "cell_type": "code",
   "execution_count": 22,
   "id": "e2901efd",
   "metadata": {},
   "outputs": [
    {
     "data": {
      "text/html": [
       "<div>\n",
       "<style scoped>\n",
       "    .dataframe tbody tr th:only-of-type {\n",
       "        vertical-align: middle;\n",
       "    }\n",
       "\n",
       "    .dataframe tbody tr th {\n",
       "        vertical-align: top;\n",
       "    }\n",
       "\n",
       "    .dataframe thead th {\n",
       "        text-align: right;\n",
       "    }\n",
       "</style>\n",
       "<table border=\"1\" class=\"dataframe\">\n",
       "  <thead>\n",
       "    <tr style=\"text-align: right;\">\n",
       "      <th></th>\n",
       "      <th>Open</th>\n",
       "      <th>High</th>\n",
       "      <th>Low</th>\n",
       "      <th>Close</th>\n",
       "      <th>Vol</th>\n",
       "    </tr>\n",
       "  </thead>\n",
       "  <tbody>\n",
       "    <tr>\n",
       "      <th>0</th>\n",
       "      <td>185.27</td>\n",
       "      <td>185.270</td>\n",
       "      <td>185.270</td>\n",
       "      <td>185.270</td>\n",
       "      <td>4.0</td>\n",
       "    </tr>\n",
       "    <tr>\n",
       "      <th>1</th>\n",
       "      <td>185.11</td>\n",
       "      <td>185.110</td>\n",
       "      <td>185.110</td>\n",
       "      <td>185.110</td>\n",
       "      <td>36.0</td>\n",
       "    </tr>\n",
       "    <tr>\n",
       "      <th>2</th>\n",
       "      <td>185.04</td>\n",
       "      <td>185.040</td>\n",
       "      <td>185.040</td>\n",
       "      <td>185.040</td>\n",
       "      <td>10.0</td>\n",
       "    </tr>\n",
       "    <tr>\n",
       "      <th>3</th>\n",
       "      <td>185.30</td>\n",
       "      <td>185.300</td>\n",
       "      <td>185.300</td>\n",
       "      <td>185.300</td>\n",
       "      <td>465450.0</td>\n",
       "    </tr>\n",
       "    <tr>\n",
       "      <th>4</th>\n",
       "      <td>185.30</td>\n",
       "      <td>185.300</td>\n",
       "      <td>185.300</td>\n",
       "      <td>185.300</td>\n",
       "      <td>3.0</td>\n",
       "    </tr>\n",
       "    <tr>\n",
       "      <th>...</th>\n",
       "      <td>...</td>\n",
       "      <td>...</td>\n",
       "      <td>...</td>\n",
       "      <td>...</td>\n",
       "      <td>...</td>\n",
       "    </tr>\n",
       "    <tr>\n",
       "      <th>95</th>\n",
       "      <td>184.14</td>\n",
       "      <td>184.330</td>\n",
       "      <td>184.100</td>\n",
       "      <td>184.220</td>\n",
       "      <td>22680.0</td>\n",
       "    </tr>\n",
       "    <tr>\n",
       "      <th>96</th>\n",
       "      <td>184.29</td>\n",
       "      <td>184.370</td>\n",
       "      <td>184.100</td>\n",
       "      <td>184.150</td>\n",
       "      <td>22180.0</td>\n",
       "    </tr>\n",
       "    <tr>\n",
       "      <th>97</th>\n",
       "      <td>184.12</td>\n",
       "      <td>184.327</td>\n",
       "      <td>184.095</td>\n",
       "      <td>184.300</td>\n",
       "      <td>30276.0</td>\n",
       "    </tr>\n",
       "    <tr>\n",
       "      <th>98</th>\n",
       "      <td>183.76</td>\n",
       "      <td>184.135</td>\n",
       "      <td>183.580</td>\n",
       "      <td>184.085</td>\n",
       "      <td>38576.0</td>\n",
       "    </tr>\n",
       "    <tr>\n",
       "      <th>99</th>\n",
       "      <td>183.83</td>\n",
       "      <td>183.860</td>\n",
       "      <td>183.550</td>\n",
       "      <td>183.760</td>\n",
       "      <td>28326.0</td>\n",
       "    </tr>\n",
       "  </tbody>\n",
       "</table>\n",
       "<p>100 rows × 5 columns</p>\n",
       "</div>"
      ],
      "text/plain": [
       "      Open     High      Low    Close       Vol\n",
       "0   185.27  185.270  185.270  185.270       4.0\n",
       "1   185.11  185.110  185.110  185.110      36.0\n",
       "2   185.04  185.040  185.040  185.040      10.0\n",
       "3   185.30  185.300  185.300  185.300  465450.0\n",
       "4   185.30  185.300  185.300  185.300       3.0\n",
       "..     ...      ...      ...      ...       ...\n",
       "95  184.14  184.330  184.100  184.220   22680.0\n",
       "96  184.29  184.370  184.100  184.150   22180.0\n",
       "97  184.12  184.327  184.095  184.300   30276.0\n",
       "98  183.76  184.135  183.580  184.085   38576.0\n",
       "99  183.83  183.860  183.550  183.760   28326.0\n",
       "\n",
       "[100 rows x 5 columns]"
      ]
     },
     "execution_count": 22,
     "metadata": {},
     "output_type": "execute_result"
    }
   ],
   "source": [
    "# dictionary of lists \n",
    "dict = {'Open': Open, 'High': High, 'Low': Low, 'Close': Close, 'Vol': Vol} \n",
    "IBM = pd.DataFrame(dict)\n",
    "IBM.dropna(inplace=True)\n",
    "IBM"
   ]
  },
  {
   "cell_type": "code",
   "execution_count": 23,
   "id": "7ae2f671",
   "metadata": {},
   "outputs": [],
   "source": [
    "# Returns Open Values for AAPL\n",
    "Open = []\n",
    "for col in range(7, len(df.columns), 5):\n",
    "    Open.append(df.iloc[1, col])\n",
    "    \n",
    "# Returns High Values for AAPL\n",
    "High = []\n",
    "for col in range(8, len(df.columns), 5):\n",
    "    High.append(df.iloc[1, col])\n",
    "    \n",
    "# Returns Low Values for AAPL\n",
    "Low = []\n",
    "for col in range(9, len(df.columns), 5):\n",
    "    Low.append(df.iloc[1, col])\n",
    "    \n",
    "# Returns Close Values for AAPL\n",
    "Close = []\n",
    "for col in range(10, len(df.columns), 5):\n",
    "    Close.append(df.iloc[1, col])\n",
    "    \n",
    "# Returns Vol Values for AAPL\n",
    "Vol = []\n",
    "for col in range(11, len(df.columns), 5):\n",
    "    Vol.append(df.iloc[1, col])"
   ]
  },
  {
   "cell_type": "code",
   "execution_count": 30,
   "id": "ea665329",
   "metadata": {},
   "outputs": [
    {
     "data": {
      "text/plain": [
       "<bound method DataFrame.reset_index of         Open     High      Low    Close      Vol\n",
       "0    181.160  181.330  181.160  181.270   2136.0\n",
       "1    181.265  181.330  181.250  181.285   2459.0\n",
       "2    181.200  181.250  181.130  181.230   1924.0\n",
       "3    181.110  181.200  181.060  181.200   3473.0\n",
       "4    181.110  181.200  181.080  181.115   7535.0\n",
       "..       ...      ...      ...      ...      ...\n",
       "113  181.200  181.200  181.100  181.140   4784.0\n",
       "114  181.130  182.144  168.637  181.120   3687.0\n",
       "115  181.110  181.140  181.080  181.110   6494.0\n",
       "116  181.150  181.420  181.100  181.115  48766.0\n",
       "117  181.335  181.420  181.150  181.285  23436.0\n",
       "\n",
       "[100 rows x 5 columns]>"
      ]
     },
     "execution_count": 30,
     "metadata": {},
     "output_type": "execute_result"
    }
   ],
   "source": [
    "# dictionary of lists \n",
    "dict = {'Open': Open, 'High': High, 'Low': Low, 'Close': Close, 'Vol': Vol} \n",
    "AAPL = pd.DataFrame(dict)\n",
    "AAPL.dropna(inplace=True)\n",
    "AAPL.reset_index(inplace=True)"
   ]
  },
  {
   "cell_type": "code",
   "execution_count": 28,
   "id": "b7f20467",
   "metadata": {},
   "outputs": [
    {
     "data": {
      "application/vnd.plotly.v1+json": {
       "config": {
        "plotlyServerURL": "https://plot.ly"
       },
       "data": [
        {
         "close": [
          181.27,
          181.285,
          181.23,
          181.2,
          181.115,
          181.1,
          181.14,
          181.18,
          181.14,
          181.02,
          181.135,
          181.02,
          180.97,
          181.12,
          181.15,
          181.17,
          181.12,
          181.1,
          181.11,
          181.18,
          181.21,
          181.21,
          181.195,
          181.35,
          181.36,
          181.28,
          181.08,
          181.42,
          180.99,
          181.039,
          181.135,
          181.145,
          181.11,
          180.835,
          180.755,
          180.67,
          180.695,
          180.735,
          180.78,
          180.72,
          180.65,
          180.535,
          180.435,
          180.476,
          180.54,
          180.62,
          180.73,
          180.74,
          180.605,
          180.759,
          180.785,
          180.88,
          180.635,
          180.655,
          180.745,
          180.83,
          180.755,
          180.602,
          180.605,
          180.45,
          180.38,
          180.23,
          180.185,
          180.216,
          180.22,
          180.42,
          180.38,
          180.27,
          180.399,
          180.701,
          181.04,
          180.81,
          180.972,
          181.05,
          181.321,
          181.24,
          181.235,
          181.383,
          181.27,
          181.207,
          181.35,
          181.602,
          181.3,
          181.225,
          181.3,
          181.2,
          181.12,
          181.115,
          181.105,
          181.08,
          181.08,
          181.19,
          181.18,
          181.15,
          181.115,
          181.14,
          181.12,
          181.11,
          181.115,
          181.285
         ],
         "high": [
          181.33,
          181.33,
          181.25,
          181.2,
          181.2,
          181.13,
          181.18,
          181.18,
          181.19,
          181.19,
          181.17,
          181.09,
          181.14,
          181.42,
          181.19,
          181.19,
          181.18,
          181.14,
          181.16,
          181.28,
          181.24,
          181.25,
          181.3,
          181.42,
          181.39,
          181.42,
          181.45,
          181.47,
          181.09,
          181.18,
          181.31,
          181.17,
          181.12,
          180.855,
          180.789,
          180.7,
          180.76,
          180.83,
          180.86,
          180.75,
          180.67,
          180.57,
          180.47,
          180.545,
          180.62,
          180.765,
          180.89,
          180.83,
          180.8,
          180.78,
          180.93,
          180.88,
          180.68,
          180.84,
          180.88,
          180.83,
          180.77,
          180.69,
          180.61,
          180.59,
          180.47,
          180.26,
          180.27,
          180.315,
          180.46,
          180.465,
          180.59,
          180.49,
          180.705,
          181.11,
          181.255,
          180.98,
          181.08,
          181.33,
          181.41,
          181.3,
          181.455,
          181.41,
          181.38,
          181.364,
          181.67,
          181.67,
          181.3,
          181.32,
          181.32,
          181.22,
          181.29,
          181.19,
          181.15,
          181.146,
          181.19,
          181.19,
          181.19,
          181.19,
          181.19,
          181.2,
          182.144,
          181.14,
          181.42,
          181.42
         ],
         "low": [
          181.16,
          181.25,
          181.13,
          181.06,
          181.08,
          181.08,
          181.09,
          181.08,
          181.05,
          181.02,
          181.01,
          180.96,
          180.91,
          180.98,
          181.12,
          181.1,
          181.09,
          181.1,
          181.09,
          181.11,
          181.15,
          181.15,
          181.15,
          181.039,
          181.24,
          181.05,
          180.503,
          180.99,
          180.91,
          180.93,
          181.11,
          181.04,
          180.835,
          180.715,
          180.54,
          180.59,
          180.67,
          180.672,
          180.7,
          180.61,
          180.45,
          180.39,
          180.35,
          180.39,
          180.51,
          180.61,
          180.67,
          180.53,
          180.57,
          180.59,
          180.78,
          180.63,
          180.595,
          180.64,
          180.736,
          180.715,
          180.59,
          180.48,
          180.435,
          180.365,
          180.19,
          180.13,
          180.14,
          180.19,
          180.19,
          180.24,
          180.232,
          180.255,
          180.39,
          180.6,
          180.68,
          180.802,
          180.91,
          181.05,
          181.15,
          181.19,
          181.235,
          181.23,
          181.16,
          181.15,
          181.305,
          181.5,
          181.22,
          181.12,
          181.17,
          181.12,
          181.11,
          181.08,
          181.08,
          181.08,
          181.08,
          181.1,
          181.02,
          181.1,
          181.02,
          181.1,
          168.637,
          181.08,
          181.1,
          181.15
         ],
         "open": [
          181.16,
          181.265,
          181.2,
          181.11,
          181.11,
          181.105,
          181.18,
          181.16,
          181.12,
          181.12,
          181.03,
          181.02,
          181.1,
          181.15,
          181.15,
          181.12,
          181.12,
          181.11,
          181.145,
          181.12,
          181.24,
          181.215,
          181.29,
          181.37,
          181.28,
          181.09,
          181.43,
          180.995,
          181.03,
          181.15,
          181.14,
          181.11,
          180.835,
          180.755,
          180.67,
          180.68,
          180.73,
          180.78,
          180.72,
          180.64,
          180.52,
          180.435,
          180.47,
          180.54,
          180.605,
          180.74,
          180.74,
          180.605,
          180.75,
          180.78,
          180.88,
          180.64,
          180.65,
          180.747,
          180.83,
          180.757,
          180.61,
          180.605,
          180.46,
          180.385,
          180.23,
          180.187,
          180.21,
          180.2,
          180.42,
          180.37,
          180.275,
          180.4,
          180.705,
          181.03,
          180.805,
          180.975,
          181.051,
          181.32,
          181.24,
          181.23,
          181.38,
          181.272,
          181.207,
          181.36,
          181.62,
          181.605,
          181.22,
          181.27,
          181.2,
          181.17,
          181.15,
          181.15,
          181.11,
          181.125,
          181.15,
          181.12,
          181.19,
          181.1,
          181.15,
          181.2,
          181.13,
          181.11,
          181.15,
          181.335
         ],
         "type": "candlestick",
         "x": [
          0,
          1,
          2,
          3,
          4,
          5,
          6,
          7,
          8,
          9,
          10,
          11,
          12,
          13,
          14,
          15,
          16,
          17,
          18,
          19,
          20,
          21,
          22,
          23,
          24,
          25,
          26,
          27,
          28,
          29,
          30,
          31,
          32,
          33,
          34,
          35,
          36,
          37,
          38,
          39,
          40,
          41,
          42,
          43,
          44,
          45,
          46,
          47,
          48,
          49,
          50,
          51,
          52,
          53,
          54,
          55,
          56,
          57,
          58,
          59,
          60,
          61,
          62,
          63,
          64,
          65,
          66,
          67,
          68,
          69,
          70,
          71,
          72,
          73,
          74,
          75,
          76,
          77,
          78,
          79,
          80,
          81,
          100,
          101,
          102,
          103,
          104,
          105,
          106,
          107,
          108,
          109,
          110,
          111,
          112,
          113,
          114,
          115,
          116,
          117
         ]
        }
       ],
       "layout": {
        "template": {
         "data": {
          "bar": [
           {
            "error_x": {
             "color": "#2a3f5f"
            },
            "error_y": {
             "color": "#2a3f5f"
            },
            "marker": {
             "line": {
              "color": "#E5ECF6",
              "width": 0.5
             },
             "pattern": {
              "fillmode": "overlay",
              "size": 10,
              "solidity": 0.2
             }
            },
            "type": "bar"
           }
          ],
          "barpolar": [
           {
            "marker": {
             "line": {
              "color": "#E5ECF6",
              "width": 0.5
             },
             "pattern": {
              "fillmode": "overlay",
              "size": 10,
              "solidity": 0.2
             }
            },
            "type": "barpolar"
           }
          ],
          "carpet": [
           {
            "aaxis": {
             "endlinecolor": "#2a3f5f",
             "gridcolor": "white",
             "linecolor": "white",
             "minorgridcolor": "white",
             "startlinecolor": "#2a3f5f"
            },
            "baxis": {
             "endlinecolor": "#2a3f5f",
             "gridcolor": "white",
             "linecolor": "white",
             "minorgridcolor": "white",
             "startlinecolor": "#2a3f5f"
            },
            "type": "carpet"
           }
          ],
          "choropleth": [
           {
            "colorbar": {
             "outlinewidth": 0,
             "ticks": ""
            },
            "type": "choropleth"
           }
          ],
          "contour": [
           {
            "colorbar": {
             "outlinewidth": 0,
             "ticks": ""
            },
            "colorscale": [
             [
              0,
              "#0d0887"
             ],
             [
              0.1111111111111111,
              "#46039f"
             ],
             [
              0.2222222222222222,
              "#7201a8"
             ],
             [
              0.3333333333333333,
              "#9c179e"
             ],
             [
              0.4444444444444444,
              "#bd3786"
             ],
             [
              0.5555555555555556,
              "#d8576b"
             ],
             [
              0.6666666666666666,
              "#ed7953"
             ],
             [
              0.7777777777777778,
              "#fb9f3a"
             ],
             [
              0.8888888888888888,
              "#fdca26"
             ],
             [
              1,
              "#f0f921"
             ]
            ],
            "type": "contour"
           }
          ],
          "contourcarpet": [
           {
            "colorbar": {
             "outlinewidth": 0,
             "ticks": ""
            },
            "type": "contourcarpet"
           }
          ],
          "heatmap": [
           {
            "colorbar": {
             "outlinewidth": 0,
             "ticks": ""
            },
            "colorscale": [
             [
              0,
              "#0d0887"
             ],
             [
              0.1111111111111111,
              "#46039f"
             ],
             [
              0.2222222222222222,
              "#7201a8"
             ],
             [
              0.3333333333333333,
              "#9c179e"
             ],
             [
              0.4444444444444444,
              "#bd3786"
             ],
             [
              0.5555555555555556,
              "#d8576b"
             ],
             [
              0.6666666666666666,
              "#ed7953"
             ],
             [
              0.7777777777777778,
              "#fb9f3a"
             ],
             [
              0.8888888888888888,
              "#fdca26"
             ],
             [
              1,
              "#f0f921"
             ]
            ],
            "type": "heatmap"
           }
          ],
          "heatmapgl": [
           {
            "colorbar": {
             "outlinewidth": 0,
             "ticks": ""
            },
            "colorscale": [
             [
              0,
              "#0d0887"
             ],
             [
              0.1111111111111111,
              "#46039f"
             ],
             [
              0.2222222222222222,
              "#7201a8"
             ],
             [
              0.3333333333333333,
              "#9c179e"
             ],
             [
              0.4444444444444444,
              "#bd3786"
             ],
             [
              0.5555555555555556,
              "#d8576b"
             ],
             [
              0.6666666666666666,
              "#ed7953"
             ],
             [
              0.7777777777777778,
              "#fb9f3a"
             ],
             [
              0.8888888888888888,
              "#fdca26"
             ],
             [
              1,
              "#f0f921"
             ]
            ],
            "type": "heatmapgl"
           }
          ],
          "histogram": [
           {
            "marker": {
             "pattern": {
              "fillmode": "overlay",
              "size": 10,
              "solidity": 0.2
             }
            },
            "type": "histogram"
           }
          ],
          "histogram2d": [
           {
            "colorbar": {
             "outlinewidth": 0,
             "ticks": ""
            },
            "colorscale": [
             [
              0,
              "#0d0887"
             ],
             [
              0.1111111111111111,
              "#46039f"
             ],
             [
              0.2222222222222222,
              "#7201a8"
             ],
             [
              0.3333333333333333,
              "#9c179e"
             ],
             [
              0.4444444444444444,
              "#bd3786"
             ],
             [
              0.5555555555555556,
              "#d8576b"
             ],
             [
              0.6666666666666666,
              "#ed7953"
             ],
             [
              0.7777777777777778,
              "#fb9f3a"
             ],
             [
              0.8888888888888888,
              "#fdca26"
             ],
             [
              1,
              "#f0f921"
             ]
            ],
            "type": "histogram2d"
           }
          ],
          "histogram2dcontour": [
           {
            "colorbar": {
             "outlinewidth": 0,
             "ticks": ""
            },
            "colorscale": [
             [
              0,
              "#0d0887"
             ],
             [
              0.1111111111111111,
              "#46039f"
             ],
             [
              0.2222222222222222,
              "#7201a8"
             ],
             [
              0.3333333333333333,
              "#9c179e"
             ],
             [
              0.4444444444444444,
              "#bd3786"
             ],
             [
              0.5555555555555556,
              "#d8576b"
             ],
             [
              0.6666666666666666,
              "#ed7953"
             ],
             [
              0.7777777777777778,
              "#fb9f3a"
             ],
             [
              0.8888888888888888,
              "#fdca26"
             ],
             [
              1,
              "#f0f921"
             ]
            ],
            "type": "histogram2dcontour"
           }
          ],
          "mesh3d": [
           {
            "colorbar": {
             "outlinewidth": 0,
             "ticks": ""
            },
            "type": "mesh3d"
           }
          ],
          "parcoords": [
           {
            "line": {
             "colorbar": {
              "outlinewidth": 0,
              "ticks": ""
             }
            },
            "type": "parcoords"
           }
          ],
          "pie": [
           {
            "automargin": true,
            "type": "pie"
           }
          ],
          "scatter": [
           {
            "fillpattern": {
             "fillmode": "overlay",
             "size": 10,
             "solidity": 0.2
            },
            "type": "scatter"
           }
          ],
          "scatter3d": [
           {
            "line": {
             "colorbar": {
              "outlinewidth": 0,
              "ticks": ""
             }
            },
            "marker": {
             "colorbar": {
              "outlinewidth": 0,
              "ticks": ""
             }
            },
            "type": "scatter3d"
           }
          ],
          "scattercarpet": [
           {
            "marker": {
             "colorbar": {
              "outlinewidth": 0,
              "ticks": ""
             }
            },
            "type": "scattercarpet"
           }
          ],
          "scattergeo": [
           {
            "marker": {
             "colorbar": {
              "outlinewidth": 0,
              "ticks": ""
             }
            },
            "type": "scattergeo"
           }
          ],
          "scattergl": [
           {
            "marker": {
             "colorbar": {
              "outlinewidth": 0,
              "ticks": ""
             }
            },
            "type": "scattergl"
           }
          ],
          "scattermapbox": [
           {
            "marker": {
             "colorbar": {
              "outlinewidth": 0,
              "ticks": ""
             }
            },
            "type": "scattermapbox"
           }
          ],
          "scatterpolar": [
           {
            "marker": {
             "colorbar": {
              "outlinewidth": 0,
              "ticks": ""
             }
            },
            "type": "scatterpolar"
           }
          ],
          "scatterpolargl": [
           {
            "marker": {
             "colorbar": {
              "outlinewidth": 0,
              "ticks": ""
             }
            },
            "type": "scatterpolargl"
           }
          ],
          "scatterternary": [
           {
            "marker": {
             "colorbar": {
              "outlinewidth": 0,
              "ticks": ""
             }
            },
            "type": "scatterternary"
           }
          ],
          "surface": [
           {
            "colorbar": {
             "outlinewidth": 0,
             "ticks": ""
            },
            "colorscale": [
             [
              0,
              "#0d0887"
             ],
             [
              0.1111111111111111,
              "#46039f"
             ],
             [
              0.2222222222222222,
              "#7201a8"
             ],
             [
              0.3333333333333333,
              "#9c179e"
             ],
             [
              0.4444444444444444,
              "#bd3786"
             ],
             [
              0.5555555555555556,
              "#d8576b"
             ],
             [
              0.6666666666666666,
              "#ed7953"
             ],
             [
              0.7777777777777778,
              "#fb9f3a"
             ],
             [
              0.8888888888888888,
              "#fdca26"
             ],
             [
              1,
              "#f0f921"
             ]
            ],
            "type": "surface"
           }
          ],
          "table": [
           {
            "cells": {
             "fill": {
              "color": "#EBF0F8"
             },
             "line": {
              "color": "white"
             }
            },
            "header": {
             "fill": {
              "color": "#C8D4E3"
             },
             "line": {
              "color": "white"
             }
            },
            "type": "table"
           }
          ]
         },
         "layout": {
          "annotationdefaults": {
           "arrowcolor": "#2a3f5f",
           "arrowhead": 0,
           "arrowwidth": 1
          },
          "autotypenumbers": "strict",
          "coloraxis": {
           "colorbar": {
            "outlinewidth": 0,
            "ticks": ""
           }
          },
          "colorscale": {
           "diverging": [
            [
             0,
             "#8e0152"
            ],
            [
             0.1,
             "#c51b7d"
            ],
            [
             0.2,
             "#de77ae"
            ],
            [
             0.3,
             "#f1b6da"
            ],
            [
             0.4,
             "#fde0ef"
            ],
            [
             0.5,
             "#f7f7f7"
            ],
            [
             0.6,
             "#e6f5d0"
            ],
            [
             0.7,
             "#b8e186"
            ],
            [
             0.8,
             "#7fbc41"
            ],
            [
             0.9,
             "#4d9221"
            ],
            [
             1,
             "#276419"
            ]
           ],
           "sequential": [
            [
             0,
             "#0d0887"
            ],
            [
             0.1111111111111111,
             "#46039f"
            ],
            [
             0.2222222222222222,
             "#7201a8"
            ],
            [
             0.3333333333333333,
             "#9c179e"
            ],
            [
             0.4444444444444444,
             "#bd3786"
            ],
            [
             0.5555555555555556,
             "#d8576b"
            ],
            [
             0.6666666666666666,
             "#ed7953"
            ],
            [
             0.7777777777777778,
             "#fb9f3a"
            ],
            [
             0.8888888888888888,
             "#fdca26"
            ],
            [
             1,
             "#f0f921"
            ]
           ],
           "sequentialminus": [
            [
             0,
             "#0d0887"
            ],
            [
             0.1111111111111111,
             "#46039f"
            ],
            [
             0.2222222222222222,
             "#7201a8"
            ],
            [
             0.3333333333333333,
             "#9c179e"
            ],
            [
             0.4444444444444444,
             "#bd3786"
            ],
            [
             0.5555555555555556,
             "#d8576b"
            ],
            [
             0.6666666666666666,
             "#ed7953"
            ],
            [
             0.7777777777777778,
             "#fb9f3a"
            ],
            [
             0.8888888888888888,
             "#fdca26"
            ],
            [
             1,
             "#f0f921"
            ]
           ]
          },
          "colorway": [
           "#636efa",
           "#EF553B",
           "#00cc96",
           "#ab63fa",
           "#FFA15A",
           "#19d3f3",
           "#FF6692",
           "#B6E880",
           "#FF97FF",
           "#FECB52"
          ],
          "font": {
           "color": "#2a3f5f"
          },
          "geo": {
           "bgcolor": "white",
           "lakecolor": "white",
           "landcolor": "#E5ECF6",
           "showlakes": true,
           "showland": true,
           "subunitcolor": "white"
          },
          "hoverlabel": {
           "align": "left"
          },
          "hovermode": "closest",
          "mapbox": {
           "style": "light"
          },
          "paper_bgcolor": "white",
          "plot_bgcolor": "#E5ECF6",
          "polar": {
           "angularaxis": {
            "gridcolor": "white",
            "linecolor": "white",
            "ticks": ""
           },
           "bgcolor": "#E5ECF6",
           "radialaxis": {
            "gridcolor": "white",
            "linecolor": "white",
            "ticks": ""
           }
          },
          "scene": {
           "xaxis": {
            "backgroundcolor": "#E5ECF6",
            "gridcolor": "white",
            "gridwidth": 2,
            "linecolor": "white",
            "showbackground": true,
            "ticks": "",
            "zerolinecolor": "white"
           },
           "yaxis": {
            "backgroundcolor": "#E5ECF6",
            "gridcolor": "white",
            "gridwidth": 2,
            "linecolor": "white",
            "showbackground": true,
            "ticks": "",
            "zerolinecolor": "white"
           },
           "zaxis": {
            "backgroundcolor": "#E5ECF6",
            "gridcolor": "white",
            "gridwidth": 2,
            "linecolor": "white",
            "showbackground": true,
            "ticks": "",
            "zerolinecolor": "white"
           }
          },
          "shapedefaults": {
           "line": {
            "color": "#2a3f5f"
           }
          },
          "ternary": {
           "aaxis": {
            "gridcolor": "white",
            "linecolor": "white",
            "ticks": ""
           },
           "baxis": {
            "gridcolor": "white",
            "linecolor": "white",
            "ticks": ""
           },
           "bgcolor": "#E5ECF6",
           "caxis": {
            "gridcolor": "white",
            "linecolor": "white",
            "ticks": ""
           }
          },
          "title": {
           "x": 0.05
          },
          "xaxis": {
           "automargin": true,
           "gridcolor": "white",
           "linecolor": "white",
           "ticks": "",
           "title": {
            "standoff": 15
           },
           "zerolinecolor": "white",
           "zerolinewidth": 2
          },
          "yaxis": {
           "automargin": true,
           "gridcolor": "white",
           "linecolor": "white",
           "ticks": "",
           "title": {
            "standoff": 15
           },
           "zerolinecolor": "white",
           "zerolinewidth": 2
          }
         }
        }
       }
      },
      "text/html": [
       "<div>                            <div id=\"c7116251-94f2-4d01-a99c-1cd9ceb72c65\" class=\"plotly-graph-div\" style=\"height:525px; width:100%;\"></div>            <script type=\"text/javascript\">                require([\"plotly\"], function(Plotly) {                    window.PLOTLYENV=window.PLOTLYENV || {};                                    if (document.getElementById(\"c7116251-94f2-4d01-a99c-1cd9ceb72c65\")) {                    Plotly.newPlot(                        \"c7116251-94f2-4d01-a99c-1cd9ceb72c65\",                        [{\"close\":[181.27,181.285,181.23,181.2,181.115,181.1,181.14,181.18,181.14,181.02,181.135,181.02,180.97,181.12,181.15,181.17,181.12,181.1,181.11,181.18,181.21,181.21,181.195,181.35,181.36,181.28,181.08,181.42,180.99,181.039,181.135,181.145,181.11,180.835,180.755,180.67,180.695,180.735,180.78,180.72,180.65,180.535,180.435,180.476,180.54,180.62,180.73,180.74,180.605,180.759,180.785,180.88,180.635,180.655,180.745,180.83,180.755,180.602,180.605,180.45,180.38,180.23,180.185,180.216,180.22,180.42,180.38,180.27,180.399,180.701,181.04,180.81,180.972,181.05,181.321,181.24,181.235,181.383,181.27,181.207,181.35,181.602,181.3,181.225,181.3,181.2,181.12,181.115,181.105,181.08,181.08,181.19,181.18,181.15,181.115,181.14,181.12,181.11,181.115,181.285],\"high\":[181.33,181.33,181.25,181.2,181.2,181.13,181.18,181.18,181.19,181.19,181.17,181.09,181.14,181.42,181.19,181.19,181.18,181.14,181.16,181.28,181.24,181.25,181.3,181.42,181.39,181.42,181.45,181.47,181.09,181.18,181.31,181.17,181.12,180.855,180.789,180.7,180.76,180.83,180.86,180.75,180.67,180.57,180.47,180.545,180.62,180.765,180.89,180.83,180.8,180.78,180.93,180.88,180.68,180.84,180.88,180.83,180.77,180.69,180.61,180.59,180.47,180.26,180.27,180.315,180.46,180.465,180.59,180.49,180.705,181.11,181.255,180.98,181.08,181.33,181.41,181.3,181.455,181.41,181.38,181.364,181.67,181.67,181.3,181.32,181.32,181.22,181.29,181.19,181.15,181.146,181.19,181.19,181.19,181.19,181.19,181.2,182.144,181.14,181.42,181.42],\"low\":[181.16,181.25,181.13,181.06,181.08,181.08,181.09,181.08,181.05,181.02,181.01,180.96,180.91,180.98,181.12,181.1,181.09,181.1,181.09,181.11,181.15,181.15,181.15,181.039,181.24,181.05,180.503,180.99,180.91,180.93,181.11,181.04,180.835,180.715,180.54,180.59,180.67,180.672,180.7,180.61,180.45,180.39,180.35,180.39,180.51,180.61,180.67,180.53,180.57,180.59,180.78,180.63,180.595,180.64,180.736,180.715,180.59,180.48,180.435,180.365,180.19,180.13,180.14,180.19,180.19,180.24,180.232,180.255,180.39,180.6,180.68,180.802,180.91,181.05,181.15,181.19,181.235,181.23,181.16,181.15,181.305,181.5,181.22,181.12,181.17,181.12,181.11,181.08,181.08,181.08,181.08,181.1,181.02,181.1,181.02,181.1,168.637,181.08,181.1,181.15],\"open\":[181.16,181.265,181.2,181.11,181.11,181.105,181.18,181.16,181.12,181.12,181.03,181.02,181.1,181.15,181.15,181.12,181.12,181.11,181.145,181.12,181.24,181.215,181.29,181.37,181.28,181.09,181.43,180.995,181.03,181.15,181.14,181.11,180.835,180.755,180.67,180.68,180.73,180.78,180.72,180.64,180.52,180.435,180.47,180.54,180.605,180.74,180.74,180.605,180.75,180.78,180.88,180.64,180.65,180.747,180.83,180.757,180.61,180.605,180.46,180.385,180.23,180.187,180.21,180.2,180.42,180.37,180.275,180.4,180.705,181.03,180.805,180.975,181.051,181.32,181.24,181.23,181.38,181.272,181.207,181.36,181.62,181.605,181.22,181.27,181.2,181.17,181.15,181.15,181.11,181.125,181.15,181.12,181.19,181.1,181.15,181.2,181.13,181.11,181.15,181.335],\"x\":[0,1,2,3,4,5,6,7,8,9,10,11,12,13,14,15,16,17,18,19,20,21,22,23,24,25,26,27,28,29,30,31,32,33,34,35,36,37,38,39,40,41,42,43,44,45,46,47,48,49,50,51,52,53,54,55,56,57,58,59,60,61,62,63,64,65,66,67,68,69,70,71,72,73,74,75,76,77,78,79,80,81,100,101,102,103,104,105,106,107,108,109,110,111,112,113,114,115,116,117],\"type\":\"candlestick\"}],                        {\"template\":{\"data\":{\"histogram2dcontour\":[{\"type\":\"histogram2dcontour\",\"colorbar\":{\"outlinewidth\":0,\"ticks\":\"\"},\"colorscale\":[[0.0,\"#0d0887\"],[0.1111111111111111,\"#46039f\"],[0.2222222222222222,\"#7201a8\"],[0.3333333333333333,\"#9c179e\"],[0.4444444444444444,\"#bd3786\"],[0.5555555555555556,\"#d8576b\"],[0.6666666666666666,\"#ed7953\"],[0.7777777777777778,\"#fb9f3a\"],[0.8888888888888888,\"#fdca26\"],[1.0,\"#f0f921\"]]}],\"choropleth\":[{\"type\":\"choropleth\",\"colorbar\":{\"outlinewidth\":0,\"ticks\":\"\"}}],\"histogram2d\":[{\"type\":\"histogram2d\",\"colorbar\":{\"outlinewidth\":0,\"ticks\":\"\"},\"colorscale\":[[0.0,\"#0d0887\"],[0.1111111111111111,\"#46039f\"],[0.2222222222222222,\"#7201a8\"],[0.3333333333333333,\"#9c179e\"],[0.4444444444444444,\"#bd3786\"],[0.5555555555555556,\"#d8576b\"],[0.6666666666666666,\"#ed7953\"],[0.7777777777777778,\"#fb9f3a\"],[0.8888888888888888,\"#fdca26\"],[1.0,\"#f0f921\"]]}],\"heatmap\":[{\"type\":\"heatmap\",\"colorbar\":{\"outlinewidth\":0,\"ticks\":\"\"},\"colorscale\":[[0.0,\"#0d0887\"],[0.1111111111111111,\"#46039f\"],[0.2222222222222222,\"#7201a8\"],[0.3333333333333333,\"#9c179e\"],[0.4444444444444444,\"#bd3786\"],[0.5555555555555556,\"#d8576b\"],[0.6666666666666666,\"#ed7953\"],[0.7777777777777778,\"#fb9f3a\"],[0.8888888888888888,\"#fdca26\"],[1.0,\"#f0f921\"]]}],\"heatmapgl\":[{\"type\":\"heatmapgl\",\"colorbar\":{\"outlinewidth\":0,\"ticks\":\"\"},\"colorscale\":[[0.0,\"#0d0887\"],[0.1111111111111111,\"#46039f\"],[0.2222222222222222,\"#7201a8\"],[0.3333333333333333,\"#9c179e\"],[0.4444444444444444,\"#bd3786\"],[0.5555555555555556,\"#d8576b\"],[0.6666666666666666,\"#ed7953\"],[0.7777777777777778,\"#fb9f3a\"],[0.8888888888888888,\"#fdca26\"],[1.0,\"#f0f921\"]]}],\"contourcarpet\":[{\"type\":\"contourcarpet\",\"colorbar\":{\"outlinewidth\":0,\"ticks\":\"\"}}],\"contour\":[{\"type\":\"contour\",\"colorbar\":{\"outlinewidth\":0,\"ticks\":\"\"},\"colorscale\":[[0.0,\"#0d0887\"],[0.1111111111111111,\"#46039f\"],[0.2222222222222222,\"#7201a8\"],[0.3333333333333333,\"#9c179e\"],[0.4444444444444444,\"#bd3786\"],[0.5555555555555556,\"#d8576b\"],[0.6666666666666666,\"#ed7953\"],[0.7777777777777778,\"#fb9f3a\"],[0.8888888888888888,\"#fdca26\"],[1.0,\"#f0f921\"]]}],\"surface\":[{\"type\":\"surface\",\"colorbar\":{\"outlinewidth\":0,\"ticks\":\"\"},\"colorscale\":[[0.0,\"#0d0887\"],[0.1111111111111111,\"#46039f\"],[0.2222222222222222,\"#7201a8\"],[0.3333333333333333,\"#9c179e\"],[0.4444444444444444,\"#bd3786\"],[0.5555555555555556,\"#d8576b\"],[0.6666666666666666,\"#ed7953\"],[0.7777777777777778,\"#fb9f3a\"],[0.8888888888888888,\"#fdca26\"],[1.0,\"#f0f921\"]]}],\"mesh3d\":[{\"type\":\"mesh3d\",\"colorbar\":{\"outlinewidth\":0,\"ticks\":\"\"}}],\"scatter\":[{\"fillpattern\":{\"fillmode\":\"overlay\",\"size\":10,\"solidity\":0.2},\"type\":\"scatter\"}],\"parcoords\":[{\"type\":\"parcoords\",\"line\":{\"colorbar\":{\"outlinewidth\":0,\"ticks\":\"\"}}}],\"scatterpolargl\":[{\"type\":\"scatterpolargl\",\"marker\":{\"colorbar\":{\"outlinewidth\":0,\"ticks\":\"\"}}}],\"bar\":[{\"error_x\":{\"color\":\"#2a3f5f\"},\"error_y\":{\"color\":\"#2a3f5f\"},\"marker\":{\"line\":{\"color\":\"#E5ECF6\",\"width\":0.5},\"pattern\":{\"fillmode\":\"overlay\",\"size\":10,\"solidity\":0.2}},\"type\":\"bar\"}],\"scattergeo\":[{\"type\":\"scattergeo\",\"marker\":{\"colorbar\":{\"outlinewidth\":0,\"ticks\":\"\"}}}],\"scatterpolar\":[{\"type\":\"scatterpolar\",\"marker\":{\"colorbar\":{\"outlinewidth\":0,\"ticks\":\"\"}}}],\"histogram\":[{\"marker\":{\"pattern\":{\"fillmode\":\"overlay\",\"size\":10,\"solidity\":0.2}},\"type\":\"histogram\"}],\"scattergl\":[{\"type\":\"scattergl\",\"marker\":{\"colorbar\":{\"outlinewidth\":0,\"ticks\":\"\"}}}],\"scatter3d\":[{\"type\":\"scatter3d\",\"line\":{\"colorbar\":{\"outlinewidth\":0,\"ticks\":\"\"}},\"marker\":{\"colorbar\":{\"outlinewidth\":0,\"ticks\":\"\"}}}],\"scattermapbox\":[{\"type\":\"scattermapbox\",\"marker\":{\"colorbar\":{\"outlinewidth\":0,\"ticks\":\"\"}}}],\"scatterternary\":[{\"type\":\"scatterternary\",\"marker\":{\"colorbar\":{\"outlinewidth\":0,\"ticks\":\"\"}}}],\"scattercarpet\":[{\"type\":\"scattercarpet\",\"marker\":{\"colorbar\":{\"outlinewidth\":0,\"ticks\":\"\"}}}],\"carpet\":[{\"aaxis\":{\"endlinecolor\":\"#2a3f5f\",\"gridcolor\":\"white\",\"linecolor\":\"white\",\"minorgridcolor\":\"white\",\"startlinecolor\":\"#2a3f5f\"},\"baxis\":{\"endlinecolor\":\"#2a3f5f\",\"gridcolor\":\"white\",\"linecolor\":\"white\",\"minorgridcolor\":\"white\",\"startlinecolor\":\"#2a3f5f\"},\"type\":\"carpet\"}],\"table\":[{\"cells\":{\"fill\":{\"color\":\"#EBF0F8\"},\"line\":{\"color\":\"white\"}},\"header\":{\"fill\":{\"color\":\"#C8D4E3\"},\"line\":{\"color\":\"white\"}},\"type\":\"table\"}],\"barpolar\":[{\"marker\":{\"line\":{\"color\":\"#E5ECF6\",\"width\":0.5},\"pattern\":{\"fillmode\":\"overlay\",\"size\":10,\"solidity\":0.2}},\"type\":\"barpolar\"}],\"pie\":[{\"automargin\":true,\"type\":\"pie\"}]},\"layout\":{\"autotypenumbers\":\"strict\",\"colorway\":[\"#636efa\",\"#EF553B\",\"#00cc96\",\"#ab63fa\",\"#FFA15A\",\"#19d3f3\",\"#FF6692\",\"#B6E880\",\"#FF97FF\",\"#FECB52\"],\"font\":{\"color\":\"#2a3f5f\"},\"hovermode\":\"closest\",\"hoverlabel\":{\"align\":\"left\"},\"paper_bgcolor\":\"white\",\"plot_bgcolor\":\"#E5ECF6\",\"polar\":{\"bgcolor\":\"#E5ECF6\",\"angularaxis\":{\"gridcolor\":\"white\",\"linecolor\":\"white\",\"ticks\":\"\"},\"radialaxis\":{\"gridcolor\":\"white\",\"linecolor\":\"white\",\"ticks\":\"\"}},\"ternary\":{\"bgcolor\":\"#E5ECF6\",\"aaxis\":{\"gridcolor\":\"white\",\"linecolor\":\"white\",\"ticks\":\"\"},\"baxis\":{\"gridcolor\":\"white\",\"linecolor\":\"white\",\"ticks\":\"\"},\"caxis\":{\"gridcolor\":\"white\",\"linecolor\":\"white\",\"ticks\":\"\"}},\"coloraxis\":{\"colorbar\":{\"outlinewidth\":0,\"ticks\":\"\"}},\"colorscale\":{\"sequential\":[[0.0,\"#0d0887\"],[0.1111111111111111,\"#46039f\"],[0.2222222222222222,\"#7201a8\"],[0.3333333333333333,\"#9c179e\"],[0.4444444444444444,\"#bd3786\"],[0.5555555555555556,\"#d8576b\"],[0.6666666666666666,\"#ed7953\"],[0.7777777777777778,\"#fb9f3a\"],[0.8888888888888888,\"#fdca26\"],[1.0,\"#f0f921\"]],\"sequentialminus\":[[0.0,\"#0d0887\"],[0.1111111111111111,\"#46039f\"],[0.2222222222222222,\"#7201a8\"],[0.3333333333333333,\"#9c179e\"],[0.4444444444444444,\"#bd3786\"],[0.5555555555555556,\"#d8576b\"],[0.6666666666666666,\"#ed7953\"],[0.7777777777777778,\"#fb9f3a\"],[0.8888888888888888,\"#fdca26\"],[1.0,\"#f0f921\"]],\"diverging\":[[0,\"#8e0152\"],[0.1,\"#c51b7d\"],[0.2,\"#de77ae\"],[0.3,\"#f1b6da\"],[0.4,\"#fde0ef\"],[0.5,\"#f7f7f7\"],[0.6,\"#e6f5d0\"],[0.7,\"#b8e186\"],[0.8,\"#7fbc41\"],[0.9,\"#4d9221\"],[1,\"#276419\"]]},\"xaxis\":{\"gridcolor\":\"white\",\"linecolor\":\"white\",\"ticks\":\"\",\"title\":{\"standoff\":15},\"zerolinecolor\":\"white\",\"automargin\":true,\"zerolinewidth\":2},\"yaxis\":{\"gridcolor\":\"white\",\"linecolor\":\"white\",\"ticks\":\"\",\"title\":{\"standoff\":15},\"zerolinecolor\":\"white\",\"automargin\":true,\"zerolinewidth\":2},\"scene\":{\"xaxis\":{\"backgroundcolor\":\"#E5ECF6\",\"gridcolor\":\"white\",\"linecolor\":\"white\",\"showbackground\":true,\"ticks\":\"\",\"zerolinecolor\":\"white\",\"gridwidth\":2},\"yaxis\":{\"backgroundcolor\":\"#E5ECF6\",\"gridcolor\":\"white\",\"linecolor\":\"white\",\"showbackground\":true,\"ticks\":\"\",\"zerolinecolor\":\"white\",\"gridwidth\":2},\"zaxis\":{\"backgroundcolor\":\"#E5ECF6\",\"gridcolor\":\"white\",\"linecolor\":\"white\",\"showbackground\":true,\"ticks\":\"\",\"zerolinecolor\":\"white\",\"gridwidth\":2}},\"shapedefaults\":{\"line\":{\"color\":\"#2a3f5f\"}},\"annotationdefaults\":{\"arrowcolor\":\"#2a3f5f\",\"arrowhead\":0,\"arrowwidth\":1},\"geo\":{\"bgcolor\":\"white\",\"landcolor\":\"#E5ECF6\",\"subunitcolor\":\"white\",\"showland\":true,\"showlakes\":true,\"lakecolor\":\"white\"},\"title\":{\"x\":0.05},\"mapbox\":{\"style\":\"light\"}}}},                        {\"responsive\": true}                    ).then(function(){\n",
       "                            \n",
       "var gd = document.getElementById('c7116251-94f2-4d01-a99c-1cd9ceb72c65');\n",
       "var x = new MutationObserver(function (mutations, observer) {{\n",
       "        var display = window.getComputedStyle(gd).display;\n",
       "        if (!display || display === 'none') {{\n",
       "            console.log([gd, 'removed!']);\n",
       "            Plotly.purge(gd);\n",
       "            observer.disconnect();\n",
       "        }}\n",
       "}});\n",
       "\n",
       "// Listen for the removal of the full notebook cells\n",
       "var notebookContainer = gd.closest('#notebook-container');\n",
       "if (notebookContainer) {{\n",
       "    x.observe(notebookContainer, {childList: true});\n",
       "}}\n",
       "\n",
       "// Listen for the clearing of the current output cell\n",
       "var outputEl = gd.closest('.output');\n",
       "if (outputEl) {{\n",
       "    x.observe(outputEl, {childList: true});\n",
       "}}\n",
       "\n",
       "                        })                };                });            </script>        </div>"
      ]
     },
     "metadata": {},
     "output_type": "display_data"
    }
   ],
   "source": [
    "import plotly.graph_objects as go\n",
    "\n",
    "fig = go.Figure(data=[go.Candlestick(x=AAPL.index,\n",
    "                                    open=AAPL['Open'],\n",
    "                                    high=AAPL['High'],\n",
    "                                    low=AAPL['Low'],\n",
    "                                    close=AAPL['Close'])])\n",
    "\n",
    "fig.show()"
   ]
  }
 ],
 "metadata": {
  "kernelspec": {
   "display_name": "Python 3 (ipykernel)",
   "language": "python",
   "name": "python3"
  },
  "language_info": {
   "codemirror_mode": {
    "name": "ipython",
    "version": 3
   },
   "file_extension": ".py",
   "mimetype": "text/x-python",
   "name": "python",
   "nbconvert_exporter": "python",
   "pygments_lexer": "ipython3",
   "version": "3.10.9"
  }
 },
 "nbformat": 4,
 "nbformat_minor": 5
}
